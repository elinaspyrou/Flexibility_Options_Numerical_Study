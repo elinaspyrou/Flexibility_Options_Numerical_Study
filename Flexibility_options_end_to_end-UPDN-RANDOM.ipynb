{
 "cells": [
  {
   "cell_type": "markdown",
   "id": "20bf0e71",
   "metadata": {},
   "source": [
    "Load packages"
   ]
  },
  {
   "cell_type": "code",
   "execution_count": 1,
   "id": "b591ac4e",
   "metadata": {},
   "outputs": [],
   "source": [
    "import pyomo.environ as pyo\n",
    "import pandas as pd\n",
    "import numpy as np\n",
    "from datetime import date\n",
    "import ast\n",
    "import random\n"
   ]
  },
  {
   "cell_type": "markdown",
   "id": "116044d7",
   "metadata": {},
   "source": [
    "Define DA model with Flexibility Options"
   ]
  },
  {
   "cell_type": "code",
   "execution_count": 2,
   "id": "8d6954ca",
   "metadata": {},
   "outputs": [],
   "source": [
    "DAFOmodel = pyo.AbstractModel()\n",
    "\n",
    "#Sets\n",
    "DAFOmodel.S = pyo.RangeSet(1, 5) #Set of scenarios\n",
    "DAFOmodel.G = pyo.RangeSet(1, 5) #Set of generators\n",
    "DAFOmodel.R = pyo.RangeSet(1, 4) #Set of tiers\n",
    "\n",
    "#Parameters\n",
    "DAFOmodel.VC = pyo.Param(DAFOmodel.G) #Variable cost\n",
    "DAFOmodel.VCUP = pyo.Param(DAFOmodel.G) #Variable cost\n",
    "DAFOmodel.VCDN = pyo.Param(DAFOmodel.G) #Variable cost\n",
    "DAFOmodel.CAP = pyo.Param(DAFOmodel.G) #Capacity\n",
    "DAFOmodel.REDA=pyo.Param(within=pyo.NonNegativeIntegers) #Maximum DA RE\n",
    "DAFOmodel.DEMAND=pyo.Param(within=pyo.NonNegativeIntegers) #Electricty demand\n",
    "DAFOmodel.D1=pyo.Param(within=pyo.NonNegativeIntegers) #linear cost coefficient for demand slack variable\n",
    "DAFOmodel.D2=pyo.Param(within=pyo.NonNegativeIntegers) #quadratic cost coefficient for demand slack variable\n",
    "\n",
    "#Parameters specific to the FO\n",
    "DAFOmodel.RR= pyo.Param(DAFOmodel.G) #Ramp rate\n",
    "DAFOmodel.RE = pyo.Param(DAFOmodel.S) #Renewable generation at each scenario [FO buyer]\n",
    "DAFOmodel.PEN=pyo.Param(within=pyo.NonNegativeIntegers) #Penalty for inadequate flexibility up [FO buyer]\n",
    "DAFOmodel.PENDN=pyo.Param(within=pyo.NonNegativeIntegers) #Penalty for inadequate flexibility down [FO buyer]\n",
    "DAFOmodel.smallM=pyo.Param(within=pyo.NonNegativeReals) #Parameter that helps choose among alternative optima\n",
    "DAFOmodel.probTU=pyo.Param(DAFOmodel.R) #probability of exercise FO up\n",
    "DAFOmodel.probTD=pyo.Param(DAFOmodel.R) #probability of exercise FO dn\n",
    "\n",
    "# Variables\n",
    "DAFOmodel.d = pyo.Var() #slack for demand that makes demand elastic and helps us with degeneracy\n",
    "DAFOmodel.xDA=pyo.Var(DAFOmodel.G, domain=pyo.NonNegativeReals) #DA energy schedule for generators\n",
    "DAFOmodel.rgDA=pyo.Var(domain=pyo.NonNegativeReals) #DA energy schedule for renewables\n",
    "DAFOmodel.du= pyo.Var(DAFOmodel.S)\n",
    "\n",
    "#Variables [FO]\n",
    "DAFOmodel.hsu  = pyo.Var(DAFOmodel.R, DAFOmodel.G, domain=pyo.NonNegativeReals) #supply FO up\n",
    "DAFOmodel.hsd  = pyo.Var(DAFOmodel.R, DAFOmodel.G, domain=pyo.NonNegativeReals) #supply FO down\n",
    "DAFOmodel.hdu  = pyo.Var(DAFOmodel.R, domain=pyo.NonNegativeReals) #demand FO up\n",
    "DAFOmodel.hdd  = pyo.Var(DAFOmodel.R, domain=pyo.NonNegativeReals)  #demand FO down\n",
    "DAFOmodel.sdu  = pyo.Var(DAFOmodel.R, domain=pyo.NonNegativeReals)  #Self-supply FO up [FO buyer]\n",
    "DAFOmodel.sdd  = pyo.Var(DAFOmodel.R, domain=pyo.NonNegativeReals) #Self-supply FO down [FO buyer]\n",
    "DAFOmodel.y    = pyo.Var(DAFOmodel.S, domain=pyo.NonNegativeReals) #Auxiliary variable\n",
    "\n",
    "\n",
    "#Define objective function\n",
    "def obj_expression(m):\n",
    "    return sum(m.VC[g]*m.xDA[g] for g in m.G)+sum(m.probTU[r]*m.VCUP[g]*m.hsu[r,g] for g in m.G for r in m.R)\\\n",
    "+sum(m.probTU[r]*m.PEN*m.sdu[r]  for r in m.R)-sum(m.probTD[r]*(m.VCDN[g])*m.hsd[r,g] for g in m.G for r in m.R)\\\n",
    "+sum(m.probTD[r]*m.PENDN*m.sdd[r] for r in m.R)+sum(m.y[s] for s in m.S)*m.smallM +m.D1 *m.d + m.D2 *m.d*m.d\\\n",
    "+sum(0.2*m.D1*(m.du[s])  for s in m.S) +0.2*m.D2*sum((m.d+m.du[s])*(m.d+m.du[s]) for s in m.S  )\n",
    "###### create symmetry with demand curve in real-time, #+ m.D2 *m.d*m.d\n",
    "\n",
    "DAFOmodel.OBJ = pyo.Objective(rule=obj_expression)\n",
    "\n",
    "#Define constraints - Numbering of constraints follows paper\n",
    "def DA_energy_balance(model):\n",
    "    return sum(model.xDA[g] for g in model.G)+ model.rgDA+model.d == model.DEMAND\n",
    "DAFOmodel.Con3 = pyo.Constraint(expr=DA_energy_balance) \n",
    "\n",
    "def DA_flexup_balance(model,r):\n",
    "    return sum(model.hsu[r,g] for g in model.G) == model.hdu[r]\n",
    "DAFOmodel.Con4UP = pyo.Constraint(DAFOmodel.R, rule=DA_flexup_balance)\n",
    "\n",
    "def DA_flexdn_balance(model,r):\n",
    "    return sum(model.hsd[r,g] for g in model.G) == model.hdd[r]\n",
    "DAFOmodel.Con4DN = pyo.Constraint(DAFOmodel.R, rule=DA_flexdn_balance)\n",
    "\n",
    "def DA_flexdn_limit(model,r):\n",
    "    return model.hdd[r]+model.sdd[r] <=sum(model.RE[s] for s in model.S if s==r+1)-sum(model.RE[s] for s in model.S if s==r)\n",
    "DAFOmodel.Con5 = pyo.Constraint(DAFOmodel.R, rule=DA_flexdn_limit)\n",
    "\n",
    "def DA_flex_demand(model,s):\n",
    "    return -model.du[s]+sum(model.hdd[r]+model.sdd[r] for r in model.R if r<=s-1 )-sum(model.hdu[r]+model.sdu[r] for r in model.R if r>=s )==model.RE[s]-model.rgDA\n",
    "DAFOmodel.Con6 = pyo.Constraint(DAFOmodel.S, rule=DA_flex_demand)\n",
    "\n",
    "def DA_flex_demand_bound(model,s):\n",
    "    return sum(model.hdd[r]+model.sdd[r] for r in model.R if r<=s-1 )+sum(model.hdu[r]+model.sdu[r] for r in model.R if r>=s )<=model.y[s]\n",
    "DAFOmodel.Con7 = pyo.Constraint(DAFOmodel.S, rule=DA_flex_demand_bound)\n",
    "\n",
    "def Y2(model,s):\n",
    "    return model.y[s]>=model.rgDA-model.RE[s]\n",
    "DAFOmodel.Con8  = pyo.Constraint(DAFOmodel.S, rule=Y2)  \n",
    "\n",
    "def Y1(model,s):\n",
    "    return model.y[s]>=model.RE[s]-model.rgDA\n",
    "DAFOmodel.Con9 = pyo.Constraint(DAFOmodel.S, rule=Y1)  \n",
    "    \n",
    "def RRUP(model,g):\n",
    "    return sum(model.hsu[r,g] for r in model.R)<=model.RR[g]\n",
    "DAFOmodel.Con10up = pyo.Constraint(DAFOmodel.S, rule=RRUP)  \n",
    "\n",
    "def RRDN(model,g):\n",
    "    return sum(model.hsd[r,g] for r in model.R)<=model.RR[g]\n",
    "DAFOmodel.Con10dn = pyo.Constraint(DAFOmodel.S, rule=RRDN) \n",
    "\n",
    "def DA_capacity_cons(model, g):\n",
    "    return model.xDA[g] +sum(model.hsu[r,g] for r in model.R)<= model.CAP[g]\n",
    "DAFOmodel.Con11 = pyo.Constraint(DAFOmodel.G, rule=DA_capacity_cons)\n",
    "\n",
    "def DA_down_cons(model, g):\n",
    "    return  sum(model.hsd[r,g] for r in model.R)<= model.xDA[g]\n",
    "DAFOmodel.Con12= pyo.Constraint(DAFOmodel.G, rule=DA_down_cons)\n",
    "\n",
    "#Record duals\n",
    "DAFOmodel.dual = pyo.Suffix(direction=pyo.Suffix.IMPORT)"
   ]
  },
  {
   "cell_type": "markdown",
   "id": "5b114409",
   "metadata": {},
   "source": [
    "Stochastic Program that is used to simulate the impact of DA decisions on RT"
   ]
  },
  {
   "cell_type": "code",
   "execution_count": 24,
   "id": "fecda941",
   "metadata": {},
   "outputs": [],
   "source": [
    "RTsim = pyo.AbstractModel()\n",
    "#Sets\n",
    "RTsim.S = pyo.RangeSet(1, 5)\n",
    "RTsim.G = pyo.RangeSet(1, 5)\n",
    "\n",
    "#Parameters\n",
    "RTsim.VC = pyo.Param(RTsim.G)\n",
    "RTsim.VCUP = pyo.Param(RTsim.G)\n",
    "RTsim.VCDN = pyo.Param(RTsim.G)\n",
    "RTsim.CAP = pyo.Param(RTsim.G)\n",
    "RTsim.RR= pyo.Param(RTsim.G)\n",
    "\n",
    "RTsim.prob=pyo.Param(RTsim.S)\n",
    "RTsim.RE = pyo.Param(RTsim.S)\n",
    "RTsim.DEMAND=pyo.Param(within=pyo.NonNegativeIntegers)\n",
    "RTsim.D1=pyo.Param(within=pyo.NonNegativeIntegers)\n",
    "RTsim.D2=pyo.Param(within=pyo.NonNegativeIntegers)\n",
    "RTsim.xDA=pyo.Param(RTsim.G, domain=pyo.NonNegativeReals)\n",
    "RTsim.REDA=pyo.Param( domain=pyo.NonNegativeReals)\n",
    "RTsim.PEN=pyo.Param(within=pyo.NonNegativeIntegers)\n",
    "RTsim.PENDN=pyo.Param()\n",
    "\n",
    "\n",
    "# Variables\n",
    "RTsim.xup = pyo.Var(RTsim.S, RTsim.G, domain=pyo.NonNegativeReals)\n",
    "RTsim.xdn = pyo.Var(RTsim.S, RTsim.G, domain=pyo.NonNegativeReals)\n",
    "RTsim.d= pyo.Var(RTsim.S)\n",
    "RTsim.rgup = pyo.Var(RTsim.S, domain=pyo.NonNegativeReals)\n",
    "RTsim.rgdn = pyo.Var(RTsim.S, domain=pyo.NonNegativeReals)\n",
    "RTsim.sdup = pyo.Var(RTsim.S, domain=pyo.NonNegativeReals)\n",
    "RTsim.sddn = pyo.Var(RTsim.S, domain=pyo.NonNegativeReals)\n",
    "\n",
    "#Objective\n",
    "def obj_expression(m):\n",
    "    return sum(m.prob[s]*(m.VCUP[g]*m.xup[s,g]-m.VCDN[g]*m.xdn[s,g]) for g in m.G for s in m.S)+m.PENDN*sum(m.prob[s]*m.sdup[s] for s in m.S)+m.PEN*sum(m.prob[s]*m.sddn[s] for s in m.S)+sum(m.prob[s]*(m.D1*m.d[s]+m.D2*m.d[s]*m.d[s]) for s in m.S)\n",
    "RTsim.OBJ = pyo.Objective(rule=obj_expression)\n",
    "\n",
    "#Constraints\n",
    "def RT_energy_balance(model,s):\n",
    "    return sum(model.xup[s,g]-model.xdn[s,g] for g in model.G)+ model.rgup[s]-model.rgdn[s]+model.d[s] == 0\n",
    "\n",
    "def RT_capacity_cons(model,s, g):\n",
    "    return model.xDA[g]+model.xup[s,g] <= model.CAP[g]\n",
    "\n",
    "def RT_capacity_min(model,s, g):\n",
    "    return model.xDA[g]-model.xdn[s,g] >=0\n",
    "\n",
    "def RT_RE_availability(model,s):\n",
    "    return model.rgup[s]-model.rgdn[s]+model.sdup[s]-model.sddn[s] ==model.RE[s]-model.REDA\n",
    "\n",
    "def RT_ramp_up(model,s,g):\n",
    "    return model.xup[s,g] <=model.RR[g]\n",
    "\n",
    "def RT_ramp_dn(model,s,g):\n",
    "    return model.xdn[s,g] <= model.RR[g]\n",
    "\n",
    "# Numbering of constraints follows the RT problem\n",
    "RTsim.Con3 = pyo.Constraint(RTsim.S, rule=RT_energy_balance)\n",
    "RTsim.Con4 = pyo.Constraint(RTsim.S, rule= RT_RE_availability)\n",
    "RTsim.Con5up = pyo.Constraint(RTsim.S,RTsim.G, rule=RT_ramp_up)\n",
    "RTsim.Con5dn = pyo.Constraint(RTsim.S, RTsim.G,rule=RT_ramp_dn)\n",
    "RTsim.Con6 = pyo.Constraint(RTsim.S,RTsim.G, rule=RT_capacity_cons)\n",
    "RTsim.Con7 = pyo.Constraint(RTsim.S,RTsim.G, rule=RT_capacity_min)\n",
    "\n",
    "#Record duals\n",
    "RTsim.dual = pyo.Suffix(direction=pyo.Suffix.IMPORT)"
   ]
  },
  {
   "cell_type": "markdown",
   "id": "6fd25f79",
   "metadata": {},
   "source": [
    "Use CPLEX to solve the problem [quadratic objective function due to elastic demand]"
   ]
  },
  {
   "cell_type": "code",
   "execution_count": 19,
   "id": "5f0ed8c1",
   "metadata": {},
   "outputs": [],
   "source": [
    "opt = pyo.SolverFactory('cplex',executable='C:/Program Files/IBM/ILOG/CPLEX_Studio2211/cplex/bin/x64_win64/cplex')\n"
   ]
  },
  {
   "cell_type": "markdown",
   "id": "bf10d8fa",
   "metadata": {},
   "source": [
    "Read input data from excel"
   ]
  },
  {
   "cell_type": "code",
   "execution_count": 22,
   "id": "a6d93d13",
   "metadata": {},
   "outputs": [],
   "source": [
    "input_data=pd.read_csv('Input_files/Experiment_vcupdnrandom.csv',index_col=0)\n",
    "Summary_cost=pd.DataFrame()\n",
    "Summary_price_convergence=pd.DataFrame()\n",
    "Summary_up_convergence=pd.DataFrame()\n",
    "Summary_dn_convergence=pd.DataFrame()\n",
    "Summary_10up=pd.DataFrame()\n",
    "Summary_10dn=pd.DataFrame()\n",
    "Summary_11=pd.DataFrame()\n",
    "Summary_12=pd.DataFrame()\n",
    "Summary_su=pd.DataFrame()\n",
    "Summary_sd=pd.DataFrame()\n",
    "Summary_demand=pd.DataFrame()\n",
    "random.seed(123)\n",
    "for l in range(0,1000):\n",
    "    for m in [input_data.columns[0]]:\n",
    "        dataDA=input_data[m].to_dict()\n",
    "        for k in range(0,len(input_data[m])):\n",
    "            dataDA[input_data.index[k]]=ast.literal_eval(input_data[m][input_data.index[k]])\n",
    "        for gen in range(1,6):\n",
    "            dataDA[\"RR\"][gen]=dataDA[\"CAP\"][gen]*random.uniform(0, 1)\n",
    "            dataDA[\"VCUP\"][gen]=dataDA[\"VC\"][gen]*random.uniform(1, 2)\n",
    "            dataDA[\"VCDN\"][gen]=dataDA[\"VC\"][gen]*random.uniform(0, 1)\n",
    "        dataDA = {None: dataDA}\n",
    "        dataDA[None][\"M\"]=0\n",
    "     \n",
    "        i = DAFOmodel.create_instance(dataDA)\n",
    "        opt.solve(i)\n",
    "        #Values to pass from DA to RT module\n",
    "        Energy=pd.DataFrame()\n",
    "        E_grid_data = {(G): v.value for (G), v in i.xDA.items()}\n",
    "        Energy['en']= pd.DataFrame.from_dict(E_grid_data, orient=\"index\", columns=[\"en\"])\n",
    "        temp=i.rgDA.value\n",
    "        Total=pd.DataFrame()\n",
    "        Total.at['cost','DA']=sum(np.multiply(np.array([i.VC[k] for k in i.G]),np.array([i.xDA[g].value for g in i.G])))\n",
    "        Total.at['price','DA']=i.dual[i.Con3]\n",
    "        E_grid_data = {(R): v.value for (R), v in i.hdu.items()}\n",
    "        demand = pd.DataFrame.from_dict(E_grid_data, orient=\"index\", columns=[\"hdu\"])\n",
    "        E_grid_data = {(R): v.value for (R), v in i.hdd.items()}\n",
    "        demand ['hdd']= pd.DataFrame.from_dict(E_grid_data, orient=\"index\", columns=[\"hdd\"])\n",
    "        E_grid_data = {(R,G): v.value for (R,G), v in i.hsu.items()}\n",
    "        df = pd.DataFrame.from_dict(E_grid_data, orient=\"index\", columns=[\"hsu\"])\n",
    "        E_grid_data = {(R,G): v.value for (R,G), v in i.hsd.items()}\n",
    "        df ['hsd']= pd.DataFrame.from_dict(E_grid_data, orient=\"index\", columns=[\"hsd\"])\n",
    "        df['R']=[df.index[i][0] for i in range(0,len(df))]\n",
    "        df['G']=[df.index[i][1] for i in range(0,len(df))]\n",
    "        Prices=pd.DataFrame()\n",
    "        Prices['up']=[i.dual[i.Con4UP[r]] for r in i.R]\n",
    "        Prices['down']=[i.dual[i.Con4DN[r]] for r in i.R]\n",
    "        Gross_margins=pd.DataFrame()\n",
    "        Gross_margins[\"en\"]=np.multiply(i.dual[i.Con3]-np.array([i.VC[k] for k in i.G]), Energy['en'])\n",
    "        #Gross_margins.at[0,\"en\"]=i.rgDA.value*i.dual[i.Con3]\n",
    "        for tier in range(1,5):\n",
    "            temp2=np.multiply(df[\"hsu\"].loc[df[\"R\"]==tier].reset_index(drop=True), Prices.at[tier-1,\"up\"]-np.multiply(np.array([i.VCUP[k] for k in i.G]),i.probTU[tier]))\n",
    "            temp2.index=range(1,6)\n",
    "            Gross_margins[\"up\"+str(tier)]=temp2\n",
    "            temp2=np.multiply(df[\"hsd\"].loc[df[\"R\"]==tier].reset_index(drop=True), Prices.at[tier-1,\"down\"]+np.multiply(np.array([i.VCDN[k] for k in i.G]),i.probTD[tier]))\n",
    "            temp2.index=range(1,6)\n",
    "            Gross_margins[\"down\"+str(tier)]=temp2\n",
    "            \n",
    "        dataRT = {None:{\n",
    "            'RE': dataDA[None][\"RE\"],\n",
    "            'CAP': dataDA[None][\"CAP\"],\n",
    "            'VC': dataDA[None][\"VC\"],\n",
    "            'VCUP': dataDA[None][\"VCUP\"],\n",
    "            'VCDN': dataDA[None][\"VCDN\"],\n",
    "            'DEMAND': dataDA[None][\"DEMAND\"],\n",
    "            'D1': dataDA[None][\"D1\"],\n",
    "            'D2': dataDA[None][\"D2\"],\n",
    "            'prob':{1: 0.2, 2:0.2, 3:0.2, 4:0.2, 5:0.2},\n",
    "              'RR': dataDA[None][\"RR\"],\n",
    "            'xDA':Energy['en'],\n",
    "             'PEN':dataDA[None][\"PEN\"],\n",
    "             'PENDN':dataDA[None][\"PENDN\"],\n",
    "             'REDA':{None: temp},\n",
    "            'DAdelta': {None: -i.d.value}\n",
    "            }}\n",
    "        iRT = RTsim.create_instance(dataRT)\n",
    "        opt.solve(iRT)\n",
    "        RTmargins=pd.DataFrame()\n",
    "        for s in iRT.S:  \n",
    "            RTmargins[s]=(np.multiply(iRT.dual[iRT.Con3[s]]-iRT.prob[s]*np.array([iRT.VC[k] for k in iRT.G]),np.array([iRT.xup[s,k].value-iRT.xdn[s,k].value  for k in i.G])))\n",
    "        RTmargins.index=range(1,len(RTmargins)+1)\n",
    "        RTpayoffs=pd.DataFrame()\n",
    "        for s in iRT.S: \n",
    "            if s<5:\n",
    "                RTpayoffs[\"UP\"+str(s)]=-(iRT.dual[iRT.Con3[s]]*df[[\"hsu\",\"G\"]].loc[df[\"R\"]>=s].groupby(\"G\").sum().values.transpose()-np.multiply(iRT.prob[s]*np.array([iRT.VCUP[k] for k in iRT.G]),df[[\"hsu\",\"G\"]].loc[df[\"R\"]>=s].groupby(\"G\").sum().values.transpose()))[0]\n",
    "            if s>1:\n",
    "                 RTpayoffs[\"DN\"+str(s)]=(iRT.dual[iRT.Con3[s]]*df[[\"hsd\",\"G\"]].loc[df[\"R\"]<s].groupby(\"G\").sum().values.transpose()-np.multiply(iRT.prob[s]*np.array([iRT.VCDN[k] for k in iRT.G]),df[[\"hsd\",\"G\"]].loc[df[\"R\"]<s].groupby(\"G\").sum().values.transpose()))[0]\n",
    "        RTpayoffs.index=range(1,len(RTpayoffs)+1)\n",
    "        for s in i.S:\n",
    "           Total.at['cost',s]=iRT.prob[s]*(sum(np.multiply(np.array([i.VCUP[k] for k in i.G]),np.array([iRT.xup[s,g].value for g in iRT.G])))+sum(np.multiply(np.array([i.VCDN[k] for k in i.G]),np.array([-iRT.xdn[s,g].value for g in iRT.G]))))\n",
    "           Total.at['price',s]=iRT.dual[iRT.Con3[s]]\n",
    "           Total.at['unmet_demand',s]=iRT.prob[s]*(iRT.D1*iRT.d[s].value+iRT.D2*iRT.d[s].value*iRT.d[s].value)\n",
    "           Total.at['curtail cost',s]=iRT.prob[s]*(iRT.PENDN*iRT.sdup[s].value)\n",
    "        price_convergence=Total.at['price','DA']-Total[Total.columns[1:]].loc['price'].sum()\n",
    "        premium_convergence=pd.DataFrame()\n",
    "        premium_convergence['UP']=Gross_margins[Gross_margins.columns[Gross_margins.columns.str.startswith('up')]].sum(axis=1)+RTpayoffs[RTpayoffs.columns[RTpayoffs.columns.str.startswith('UP')]].sum(axis=1)\n",
    "        premium_convergence['DN']=Gross_margins[Gross_margins.columns[Gross_margins.columns.str.startswith('down')]].sum(axis=1)+RTpayoffs[RTpayoffs.columns[RTpayoffs.columns.str.startswith('DN')]].sum(axis=1)\n",
    "        premium_convergence.index.name='Generator'\n",
    "        premium_convergence.index=premium_convergence.index+1\n",
    "        Total_margin=pd.DataFrame()\n",
    "        for k in range(1,6):\n",
    "             Total_margin[k]=iRT.prob[k]*Gross_margins.sum(axis=1)+RTmargins[k]+RTpayoffs[RTpayoffs.columns[RTpayoffs.columns.str.endswith(str(k))]].sum(axis=1)\n",
    "        writer = pd.ExcelWriter('Test_output_files/FULLY_RANDOM/FO_EXPRANDOM_'+str(l)+\"_v\"+date.today().strftime(\"%Y_%m_%d\")+'.xlsx')      \n",
    "        round(premium_convergence,2).to_excel(writer,'Premium_convergence')\n",
    "        round(Total,2).to_excel(writer,'System_metrics')\n",
    "        round(RTmargins,2).to_excel(writer,'RTmargins')\n",
    "        round(RTpayoffs,2).to_excel(writer,'RTpayoffs')\n",
    "        round(Gross_margins,2).to_excel(writer,'Grossmargins')\n",
    "        round(df,2).to_excel(writer,'FO_supply_AWARDS')\n",
    "        round(demand,2).to_excel(writer,'FO_demand_AWARDS')\n",
    "        round(Energy,2).to_excel(writer,'DA_energy')\n",
    "        round(Total_margin,2).to_excel(writer,'Totalmargins')\n",
    "        round(Prices,2).to_excel(writer,'Prices')\n",
    "        pd.DataFrame(dataDA).to_excel(writer,'input_DA')\n",
    "        pd.DataFrame(dataRT).to_excel(writer,'input_RT')\n",
    "        writer.close()\n",
    "        Summary_price_convergence[l]=Total.loc['price'].transpose()\n",
    "        Summary_up_convergence[l]=[i.hdu[r].value*(i.dual[i.Con4UP[r]] -sum(iRT.dual[iRT.Con3[s]] for s in iRT.S if s<=r)) for r in i.R]\n",
    "        Summary_dn_convergence[l]=[i.hdd[r].value*(i.dual[i.Con4DN[r]] +sum(iRT.dual[iRT.Con3[s]] for s in iRT.S if s>=r+1)) for r in i.R]\n",
    "        Summary_10up[l]=[(i.dual[i.Con10up[g]]<-0.01)*((i.dual[i.Con10up[g]] +i.dual[i.Con11[g]])*(sum(i.hsu[r,g].value for r in i.R)>0.01)-sum((iRT.dual[iRT.Con5up[s,g]]+iRT.dual[iRT.Con6[s,g]])*(sum(i.hsu[r,g].value for r in i.R if r>=s)>0.01) for s in iRT.S)) for g in i.G]\n",
    "        Summary_10dn[l]=[(i.dual[i.Con10dn[g]]<-0.01)*((-i.dual[i.Con10dn[g]]-i.dual[i.Con12[g]])*(sum(i.hsd[r,g].value for r in i.R)>0.01) +sum((iRT.dual[iRT.Con5dn[s,g]]-iRT.dual[iRT.Con7[s,g]])*(sum(i.hsd[r,g].value for r in i.R if r<=s-1)>0.01) for s in iRT.S)) for g in i.G]\n",
    "        Summary_11[l]=[(i.dual[i.Con11[g]] +sum(iRT.dual[iRT.Con3[s]] for s in iRT.S)-i.VC[g])*(i.dual[i.Con11[g]]>0.01)*(i.xDA[g].value>0) for g in i.G]\n",
    "        Summary_12[l]=[(-i.dual[i.Con12[g]]+sum(iRT.dual[iRT.Con3[s]] for s in iRT.S)-i.VC[g])*(i.dual[i.Con12[g]]>0.01)*(sum(i.hsd[r,g].value for r in i.R)>0.01) for g in i.G]\n",
    "        Summary_su[l]=[max(r*(i.hsu[r,g].value>0.01) for r in i.R) for  g in i.G ]\n",
    "        Summary_sd[l]=[min(r*((i.hsd[r,g].value>0.1)+1000*(i.hsd[r,g].value<0.1)) for r in i.R) for  g in i.G ]"
   ]
  },
  {
   "cell_type": "code",
   "execution_count": null,
   "id": "ee16c630",
   "metadata": {},
   "outputs": [],
   "source": [
    "[(i.dual[i.Con11[g]]-i.dual[i.Con12[g]]+sum(iRT.dual[iRT.Con3[s]] for s in iRT.S)-i.VC[g])*(i.xDA[g].value>0.01) for g in i.G]"
   ]
  },
  {
   "cell_type": "code",
   "execution_count": null,
   "id": "b943c82a",
   "metadata": {},
   "outputs": [],
   "source": [
    "[iRT.dual[iRT.Con5dn[s,5]] for s in iRT.S]"
   ]
  },
  {
   "cell_type": "code",
   "execution_count": 16,
   "id": "0bf581a1",
   "metadata": {},
   "outputs": [
    {
     "data": {
      "image/png": "[encoded data removed]",
      "text/plain": [
       "<Figure size 432x288 with 1 Axes>"
      ]
     },
     "metadata": {
      "needs_background": "light"
     },
     "output_type": "display_data"
    },
    {
     "data": {
      "image/png": "[encoded data removed]",
      "text/plain": [
       "<Figure size 432x288 with 1 Axes>"
      ]
     },
     "metadata": {
      "needs_background": "light"
     },
     "output_type": "display_data"
    },
    {
     "data": {
      "image/png": "[encoded data removed]",
      "text/plain": [
       "<Figure size 432x288 with 1 Axes>"
      ]
     },
     "metadata": {
      "needs_background": "light"
     },
     "output_type": "display_data"
    },
    {
     "data": {
      "image/png": "[encoded data removed]",
      "text/plain": [
       "<Figure size 432x288 with 1 Axes>"
      ]
     },
     "metadata": {
      "needs_background": "light"
     },
     "output_type": "display_data"
    },
    {
     "data": {
      "image/png": "[encoded data removed]",
      "text/plain": [
       "<Figure size 432x288 with 1 Axes>"
      ]
     },
     "metadata": {
      "needs_background": "light"
     },
     "output_type": "display_data"
    }
   ],
   "source": [
    "for n in range(0,5):\n",
    "    pd.DataFrame(round(Summary_10dn.iloc[n],3).values).hist()"
   ]
  },
  {
   "cell_type": "code",
   "execution_count": 15,
   "id": "a92ce11f",
   "metadata": {},
   "outputs": [
    {
     "data": {
      "image/png": "[encoded data removed]",
      "text/plain": [
       "<Figure size 432x288 with 1 Axes>"
      ]
     },
     "metadata": {
      "needs_background": "light"
     },
     "output_type": "display_data"
    },
    {
     "data": {
      "image/png": "[encoded data removed]",
      "text/plain": [
       "<Figure size 432x288 with 1 Axes>"
      ]
     },
     "metadata": {
      "needs_background": "light"
     },
     "output_type": "display_data"
    },
    {
     "data": {
      "image/png": "[encoded data removed]",
      "text/plain": [
       "<Figure size 432x288 with 1 Axes>"
      ]
     },
     "metadata": {
      "needs_background": "light"
     },
     "output_type": "display_data"
    },
    {
     "data": {
      "image/png": "[encoded data removed]",
      "text/plain": [
       "<Figure size 432x288 with 1 Axes>"
      ]
     },
     "metadata": {
      "needs_background": "light"
     },
     "output_type": "display_data"
    },
    {
     "data": {
      "image/png": "[encoded data removed]",
      "text/plain": [
       "<Figure size 432x288 with 1 Axes>"
      ]
     },
     "metadata": {
      "needs_background": "light"
     },
     "output_type": "display_data"
    }
   ],
   "source": [
    "for n in range(0,5):\n",
    "    pd.DataFrame(round(Summary_10up.iloc[n],3).values).hist()"
   ]
  },
  {
   "cell_type": "code",
   "execution_count": 14,
   "id": "7fcc99fc",
   "metadata": {},
   "outputs": [
    {
     "data": {
      "image/png": "[encoded data removed]",
      "text/plain": [
       "<Figure size 432x288 with 1 Axes>"
      ]
     },
     "metadata": {
      "needs_background": "light"
     },
     "output_type": "display_data"
    },
    {
     "data": {
      "image/png": "[encoded data removed]",
      "text/plain": [
       "<Figure size 432x288 with 1 Axes>"
      ]
     },
     "metadata": {
      "needs_background": "light"
     },
     "output_type": "display_data"
    },
    {
     "data": {
      "image/png": "[encoded data removed]",
      "text/plain": [
       "<Figure size 432x288 with 1 Axes>"
      ]
     },
     "metadata": {
      "needs_background": "light"
     },
     "output_type": "display_data"
    },
    {
     "data": {
      "image/png": "[encoded data removed]",
      "text/plain": [
       "<Figure size 432x288 with 1 Axes>"
      ]
     },
     "metadata": {
      "needs_background": "light"
     },
     "output_type": "display_data"
    },
    {
     "data": {
      "image/png": "[encoded data removed]",
      "text/plain": [
       "<Figure size 432x288 with 1 Axes>"
      ]
     },
     "metadata": {
      "needs_background": "light"
     },
     "output_type": "display_data"
    }
   ],
   "source": [
    "for n in range(0,5):\n",
    "    pd.DataFrame(round(Summary_11.iloc[n],3).values).hist()"
   ]
  },
  {
   "cell_type": "code",
   "execution_count": 13,
   "id": "aa331c27",
   "metadata": {},
   "outputs": [
    {
     "data": {
      "image/png": "[encoded data removed]",
      "text/plain": [
       "<Figure size 432x288 with 1 Axes>"
      ]
     },
     "metadata": {
      "needs_background": "light"
     },
     "output_type": "display_data"
    },
    {
     "data": {
      "image/png": "[encoded data removed]",
      "text/plain": [
       "<Figure size 432x288 with 1 Axes>"
      ]
     },
     "metadata": {
      "needs_background": "light"
     },
     "output_type": "display_data"
    },
    {
     "data": {
      "image/png": "[encoded data removed]",
      "text/plain": [
       "<Figure size 432x288 with 1 Axes>"
      ]
     },
     "metadata": {
      "needs_background": "light"
     },
     "output_type": "display_data"
    },
    {
     "data": {
      "image/png": "[encoded data removed]",
      "text/plain": [
       "<Figure size 432x288 with 1 Axes>"
      ]
     },
     "metadata": {
      "needs_background": "light"
     },
     "output_type": "display_data"
    },
    {
     "data": {
      "image/png": "[encoded data removed]",
      "text/plain": [
       "<Figure size 432x288 with 1 Axes>"
      ]
     },
     "metadata": {
      "needs_background": "light"
     },
     "output_type": "display_data"
    }
   ],
   "source": [
    "for n in range(0,5):\n",
    "    pd.DataFrame(round(Summary_12.iloc[n],3).values).hist()"
   ]
  },
  {
   "cell_type": "code",
   "execution_count": 7,
   "id": "a7bbf652",
   "metadata": {},
   "outputs": [
    {
     "data": {
      "text/plain": [
       "<AxesSubplot:>"
      ]
     },
     "execution_count": 7,
     "metadata": {},
     "output_type": "execute_result"
    },
    {
     "data": {
      "image/png": "[encoded data removed]",
      "text/plain": [
       "<Figure size 432x288 with 1 Axes>"
      ]
     },
     "metadata": {
      "needs_background": "light"
     },
     "output_type": "display_data"
    }
   ],
   "source": [
    "round(Summary_price_convergence.iloc[0]-Summary_price_convergence.iloc[1:6].sum(),2).hist()"
   ]
  },
  {
   "cell_type": "code",
   "execution_count": 23,
   "id": "7b960737",
   "metadata": {},
   "outputs": [
    {
     "data": {
      "text/html": [
       "<div>\n",
       "<style scoped>\n",
       "    .dataframe tbody tr th:only-of-type {\n",
       "        vertical-align: middle;\n",
       "    }\n",
       "\n",
       "    .dataframe tbody tr th {\n",
       "        vertical-align: top;\n",
       "    }\n",
       "\n",
       "    .dataframe thead th {\n",
       "        text-align: right;\n",
       "    }\n",
       "</style>\n",
       "<table border=\"1\" class=\"dataframe\">\n",
       "  <thead>\n",
       "    <tr style=\"text-align: right;\">\n",
       "      <th></th>\n",
       "      <th>0</th>\n",
       "    </tr>\n",
       "  </thead>\n",
       "  <tbody>\n",
       "    <tr>\n",
       "      <th>0</th>\n",
       "      <td>-0.01</td>\n",
       "    </tr>\n",
       "  </tbody>\n",
       "</table>\n",
       "</div>"
      ],
      "text/plain": [
       "      0\n",
       "0 -0.01"
      ]
     },
     "execution_count": 23,
     "metadata": {},
     "output_type": "execute_result"
    }
   ],
   "source": [
    "pd.DataFrame(round(Summary_price_convergence.iloc[0]-Summary_price_convergence.iloc[1:6].sum(),2))"
   ]
  },
  {
   "cell_type": "code",
   "execution_count": null,
   "id": "ae557436",
   "metadata": {},
   "outputs": [],
   "source": [
    "Gross_margins.sum(axis=1)+RTmargins[k]+RTpayoffs[RTpayoffs.columns[RTpayoffs.columns.str.endswith(str(k))]].sum(axis=1)\n",
    "  "
   ]
  },
  {
   "cell_type": "code",
   "execution_count": null,
   "id": "406afbdc",
   "metadata": {},
   "outputs": [],
   "source": [
    "RTpayoffs[RTpayoffs.columns[RTpayoffs.columns.str.endswith(str(k))]].sum(axis=1)"
   ]
  },
  {
   "cell_type": "code",
   "execution_count": null,
   "id": "e7789681",
   "metadata": {},
   "outputs": [],
   "source": [
    "Summary_up_convergence.iloc[0][round(Summary_up_convergence.iloc[0],2)>0.1]"
   ]
  },
  {
   "cell_type": "code",
   "execution_count": null,
   "id": "937337b4",
   "metadata": {},
   "outputs": [],
   "source": [
    "(Summary_su.max(axis=0)[round(abs(Summary_up_convergence.iloc[0]),2)>0.1]).hist()"
   ]
  },
  {
   "cell_type": "code",
   "execution_count": null,
   "id": "1da9e018",
   "metadata": {},
   "outputs": [],
   "source": [
    "Summary_price_convergence.to_pickle('Test_output_files/Brute_force_dataframes/Brute_force_test1price')\n",
    "Summary_up_convergence.to_pickle('Test_output_files/Brute_force_dataframes/Brute_force_test1up')\n",
    "Summary_dn_convergence.to_pickle('Test_output_files/Brute_force_dataframes/Brute_force_test1dn')\n",
    "Summary_10up.to_pickle('Test_output_files/Brute_force_dataframes/Brute_force_test1_10up')\n",
    "Summary_10dn.to_pickle('Test_output_files/Brute_force_dataframes/Brute_force_test1_10dn')\n",
    "Summary_11.to_pickle('Test_output_files/Brute_force_dataframes/Brute_force_test1_11')\n",
    "Summary_12.to_pickle('Test_output_files/Brute_force_dataframes/Brute_force_test1_12')\n",
    "Summary_su.to_pickle('Test_output_files/Brute_force_dataframes/Brute_force_test1_su')\n",
    "Summary_sd.to_pickle('Test_output_files/Brute_force_dataframes/Brute_force_test1_sd')"
   ]
  },
  {
   "cell_type": "code",
   "execution_count": null,
   "id": "662f4b02",
   "metadata": {},
   "outputs": [],
   "source": [
    "(Summary_sd.min(axis=0)[round(abs(Summary_dn_convergence.iloc[0]),2)>0.1]).drop_duplicates()"
   ]
  },
  {
   "cell_type": "code",
   "execution_count": null,
   "id": "0d790883",
   "metadata": {},
   "outputs": [],
   "source": [
    "Summary_costD.sum(axis=0)"
   ]
  },
  {
   "cell_type": "code",
   "execution_count": null,
   "id": "0befbb51",
   "metadata": {},
   "outputs": [],
   "source": [
    "round(Summary_costCURT.sum(axis=0),2)"
   ]
  },
  {
   "cell_type": "code",
   "execution_count": null,
   "id": "82fbfc21",
   "metadata": {},
   "outputs": [],
   "source": [
    "Summary_margin_intermittency"
   ]
  },
  {
   "cell_type": "code",
   "execution_count": null,
   "id": "174a3e86",
   "metadata": {},
   "outputs": [],
   "source": [
    " round(Summary_premium_convergence_up,2)"
   ]
  },
  {
   "cell_type": "code",
   "execution_count": null,
   "id": "211d1719",
   "metadata": {},
   "outputs": [],
   "source": [
    "i.dual[i.Con10dn[1]]"
   ]
  },
  {
   "cell_type": "code",
   "execution_count": null,
   "id": "b538d94e",
   "metadata": {},
   "outputs": [],
   "source": [
    "iRT.dual[iRT.Con6[5,1]]"
   ]
  },
  {
   "cell_type": "code",
   "execution_count": null,
   "id": "999b94ec",
   "metadata": {},
   "outputs": [],
   "source": [
    "30*5"
   ]
  },
  {
   "cell_type": "code",
   "execution_count": null,
   "id": "bb74cedd",
   "metadata": {},
   "outputs": [],
   "source": [
    "Prices"
   ]
  },
  {
   "cell_type": "code",
   "execution_count": null,
   "id": "6a9f8b4d",
   "metadata": {},
   "outputs": [],
   "source": [
    "iRT.dual[iRT.Con3[2]"
   ]
  },
  {
   "cell_type": "code",
   "execution_count": null,
   "id": "f91f33d2",
   "metadata": {},
   "outputs": [],
   "source": [
    "random.uniform(0, 1)"
   ]
  },
  {
   "cell_type": "code",
   "execution_count": null,
   "id": "ce8511f9",
   "metadata": {},
   "outputs": [],
   "source": []
  }
 ],
 "metadata": {
  "kernelspec": {
   "display_name": "Python 3",
   "language": "python",
   "name": "python3"
  },
  "language_info": {
   "codemirror_mode": {
    "name": "ipython",
    "version": 3
   },
   "file_extension": ".py",
   "mimetype": "text/x-python",
   "name": "python",
   "nbconvert_exporter": "python",
   "pygments_lexer": "ipython3",
   "version": "3.8.8"
  }
 },
 "nbformat": 4,
 "nbformat_minor": 5
}
